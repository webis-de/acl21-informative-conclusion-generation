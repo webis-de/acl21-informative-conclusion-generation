{
 "cells": [
  {
   "cell_type": "code",
   "execution_count": 2,
   "metadata": {},
   "outputs": [],
   "source": [
    "from transformers import AutoModelForSeq2SeqLM, pipeline, AutoTokenizer\n",
    "from tqdm.autonotebook import tqdm"
   ]
  },
  {
   "cell_type": "markdown",
   "metadata": {},
   "source": [
    "### Load tokenizers and models"
   ]
  },
  {
   "cell_type": "code",
   "execution_count": 3,
   "metadata": {},
   "outputs": [],
   "source": [
    "base_tokenizer = AutoTokenizer.from_pretrained(\"../models/dbart/\")"
   ]
  },
  {
   "cell_type": "code",
   "execution_count": 4,
   "metadata": {},
   "outputs": [],
   "source": [
    "topic_tokenizer = AutoTokenizer.from_pretrained(\"../models/dbart-topic/\")"
   ]
  },
  {
   "cell_type": "code",
   "execution_count": 5,
   "metadata": {},
   "outputs": [],
   "source": [
    "targets_tokenizer = AutoTokenizer.from_pretrained(\"../models/dbart-targets/\")"
   ]
  },
  {
   "cell_type": "code",
   "execution_count": 6,
   "metadata": {},
   "outputs": [],
   "source": [
    "aspects_tokenizer = AutoTokenizer.from_pretrained(\"../models/dbart-aspects/\")"
   ]
  },
  {
   "cell_type": "code",
   "execution_count": 7,
   "metadata": {},
   "outputs": [],
   "source": [
    "dbart = AutoModelForSeq2SeqLM.from_pretrained(\"../models/dbart/\")"
   ]
  },
  {
   "cell_type": "code",
   "execution_count": 8,
   "metadata": {},
   "outputs": [],
   "source": [
    "dbart_topic = AutoModelForSeq2SeqLM.from_pretrained(\"../models/dbart-topic/\")"
   ]
  },
  {
   "cell_type": "code",
   "execution_count": 9,
   "metadata": {},
   "outputs": [],
   "source": [
    "dbart_targets = AutoModelForSeq2SeqLM.from_pretrained(\"../models/dbart-targets/\")"
   ]
  },
  {
   "cell_type": "code",
   "execution_count": 10,
   "metadata": {},
   "outputs": [],
   "source": [
    "dbart_aspects = AutoModelForSeq2SeqLM.from_pretrained(\"../models/dbart-aspects/\")"
   ]
  },
  {
   "cell_type": "code",
   "execution_count": 1,
   "metadata": {},
   "outputs": [],
   "source": [
    "argument = \"\"\"If a lawyer has worked harder to win cases easier, they should be entitled to charge how much they want, accepting clients that can afford it. You can't buy better justice, only influence it through the wit, resources, and experience of a decent lawyer who has undoubtedly worked harder to get to his position than a third rate lawyer. The rich should be able to do whatever they want with their money, as long as it stays in the boundaries of the law. If it doesn't, then that's what the lawyer is for, to help them get the best possible outcome. However, a good lawyer can only go so far. I'm also not sure how your proposed system would work correctly. Maybe, there is only 2 lawyers in a jurisdiction, a really good one and a bad one. How would a worthy opponent be chosen for either? You surely can't expect the state, defendant, or plaintiff to get a lawyer from somewhere else shipped in? That's just dumb.\"\"\""
   ]
  },
  {
   "cell_type": "code",
   "execution_count": 11,
   "metadata": {},
   "outputs": [],
   "source": [
    "topic_encoded_argument = \"\"\"<|TOPIC|>It's immoral that the wealthy can hire better lawyers.<|ARGUMENT|>If a lawyer has worked harder to win cases easier, they should be entitled to charge how much they want, accepting clients that can afford it. You can't buy better justice, only influence it through the wit, resources, and experience of a decent lawyer who has undoubtedly worked harder to get to his position than a third rate lawyer. The rich should be able to do whatever they want with their money, as long as it stays in the boundaries of the law. If it doesn't, then that's what the lawyer is for, to help them get the best possible outcome. However, a good lawyer can only go so far. I'm also not sure how your proposed system would work correctly. Maybe, there is only 2 lawyers in a jurisdiction, a really good one and a bad one. How would a worthy opponent be chosen for either? You surely can't expect the state, defendant, or plaintiff to get a lawyer from somewhere else shipped in? That's just dumb.<|CONCLUSION|>\"\"\""
   ]
  },
  {
   "cell_type": "code",
   "execution_count": 12,
   "metadata": {},
   "outputs": [],
   "source": [
    "targets_encoded_argument = \"\"\"<|TOPIC|>It's immoral that the wealthy can hire better lawyers.<|ARGUMENT|>If a lawyer has worked harder to win cases easier, they should be entitled to charge how much they want, accepting clients that can afford it. You can't buy better justice, only influence it through the wit, resources, and experience of a decent lawyer who has undoubtedly worked harder to get to his position than a third rate lawyer. The rich should be able to do whatever they want with their money, as long as it stays in the boundaries of the law. If it doesn't, then that's what the lawyer is for, to help them get the best possible outcome. However, a good lawyer can only go so far. I'm also not sure how your proposed system would work correctly. Maybe, there is only 2 lawyers in a jurisdiction, a really good one and a bad one. How would a worthy opponent be chosen for either? You surely can't expect the state, defendant, or plaintiff to get a lawyer from somewhere else shipped in? That's just dumb.<|TARGETS|>how your proposed system, the state defendant or plaintiff to get a lawyer from somewhere else shipped in, to do whatever they want with their money, buy better justice only influence it through the wit resources and experience of a decent lawyer who has undoubtedly worked harder to get to his position than a third rate lawyer ., to charge how much they want accepting clients that can afford it .<|CONCLUSION|>\"\"\""
   ]
  },
  {
   "cell_type": "code",
   "execution_count": 13,
   "metadata": {},
   "outputs": [],
   "source": [
    "aspects_encoded_argument = \"\"\"<|TOPIC|>It's immoral that the wealthy can hire better lawyers.<|ARGUMENT|>If a lawyer has worked harder to win cases easier, they should be entitled to charge how much they want, accepting clients that can afford it. You can't buy better justice, only influence it through the wit, resources, and experience of a decent lawyer who has undoubtedly worked harder to get to his position than a third rate lawyer. The rich should be able to do whatever they want with their money, as long as it stays in the boundaries of the law. If it doesn't, then that's what the lawyer is for, to help them get the best possible outcome. However, a good lawyer can only go so far. I'm also not sure how your proposed system would work correctly. Maybe, there is only 2 lawyers in a jurisdiction, a really good one and a bad one. How would a worthy opponent be chosen for either? You surely can't expect the state, defendant, or plaintiff to get a lawyer from somewhere else shipped in? That's just dumb.<|ASPECTS|>worthy opponent, boundaries of the law, buy, resources, influence, good lawyer, accepting clients, best possible outcome, win cases, better justice, money, charge<|CONCLUSION|>\"\"\""
   ]
  },
  {
   "cell_type": "code",
   "execution_count": 14,
   "metadata": {},
   "outputs": [],
   "source": [
    "def truncate_text_and_tokenize(text):\n",
    "        tokens = tokenizer(text, return_tensors = \"pt\", truncation=True).input_ids\n",
    "        num_tokens = tokens.size()[1]\n",
    "        if num_tokens>=1024:\n",
    "            _tokens = tokens[0][:num_tokens-3]\n",
    "        else:\n",
    "            _tokens = tokens[0]\n",
    "        tokenized_text = tokenizer.decode(_tokens, skip_special_tokens=False, clean_up_tokenization_spaces=True)\n",
    "        return (_tokens, tokenized_text)"
   ]
  },
  {
   "cell_type": "markdown",
   "metadata": {},
   "source": [
    "### Generate conclusion using dbart"
   ]
  },
  {
   "cell_type": "code",
   "execution_count": 24,
   "metadata": {},
   "outputs": [],
   "source": [
    "tokenizer = base_tokenizer\n",
    "summarization_pipeline = pipeline(\"summarization\", model=dbart, tokenizer=base_tokenizer)\n",
    "\n",
    "def generate(text):\n",
    "    _tokens, tokenized_text = truncate_text_and_tokenize(text)\n",
    "    summarization = summarization_pipeline(tokenized_text, clean_up_tokenization_spaces=True)\n",
    "    summary_text = summarization[0][\"summary_text\"]\n",
    "    return summary_text"
   ]
  },
  {
   "cell_type": "code",
   "execution_count": 25,
   "metadata": {},
   "outputs": [
    {
     "data": {
      "text/plain": [
       "'If someone can afford the legal fees, they should be entitled to the amount they want'"
      ]
     },
     "execution_count": 25,
     "metadata": {},
     "output_type": "execute_result"
    }
   ],
   "source": [
    "generate(argument)"
   ]
  },
  {
   "cell_type": "code",
   "execution_count": null,
   "metadata": {},
   "outputs": [],
   "source": []
  }
 ],
 "metadata": {
  "kernelspec": {
   "display_name": "Python 3",
   "language": "python",
   "name": "python3"
  },
  "language_info": {
   "codemirror_mode": {
    "name": "ipython",
    "version": 3
   },
   "file_extension": ".py",
   "mimetype": "text/x-python",
   "name": "python",
   "nbconvert_exporter": "python",
   "pygments_lexer": "ipython3",
   "version": "3.8.5"
  }
 },
 "nbformat": 4,
 "nbformat_minor": 4
}
